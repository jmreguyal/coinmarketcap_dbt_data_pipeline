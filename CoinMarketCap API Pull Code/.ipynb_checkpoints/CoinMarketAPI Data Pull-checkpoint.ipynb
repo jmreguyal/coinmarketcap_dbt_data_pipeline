{
 "cells": [
  {
   "cell_type": "markdown",
   "id": "611ad6ad-a19d-4243-950a-f68d49923bd6",
   "metadata": {},
   "source": [
    "# Libraries Used and Initial Setup"
   ]
  },
  {
   "cell_type": "code",
   "execution_count": 21,
   "id": "56f083cb-3dff-4ab4-afbf-71c089b3627e",
   "metadata": {},
   "outputs": [],
   "source": [
    "from requests import Request, Session\n",
    "from requests.exceptions import ConnectionError, Timeout, TooManyRedirects\n",
    "import json\n",
    "import os\n",
    "\n",
    "import pandas as pd\n",
    "\n",
    "# Run this script in your terminal to enable pulling data from coinbase API if you are getting data rate limit failure:\n",
    "# jupyter notebook --NotebookApp.iopub_data_rate_limit=1e10"
   ]
  },
  {
   "cell_type": "code",
   "execution_count": 12,
   "id": "5c23c6ef-edab-4563-bd3a-2f2491e5aba2",
   "metadata": {},
   "outputs": [],
   "source": [
    "# Allows user to see all columns in dataframe\n",
    "pd.set_option('display.max_columns', None)"
   ]
  },
  {
   "cell_type": "markdown",
   "id": "ea56c59f-eb69-4f4f-8a4a-62363715e6ce",
   "metadata": {},
   "source": [
    "# Pulling and Saving Data to a CSV File"
   ]
  },
  {
   "cell_type": "code",
   "execution_count": 13,
   "id": "613ebd49-c41a-4a49-88f1-045510e01d2e",
   "metadata": {},
   "outputs": [],
   "source": [
    "# Storing JSON data from CoinMarketCap to variable. Gets top 100 cryptocurrencies based on market cap.\n",
    "url = 'https://pro-api.coinmarketcap.com/v1/cryptocurrency/listings/latest'\n",
    "parameters = {\n",
    "  'start':'1',\n",
    "  'limit':'100',\n",
    "  'convert':'USD'\n",
    "}\n",
    "headers = {\n",
    "  'Accepts': 'application/json',\n",
    "  'X-CMC_PRO_API_KEY': '7ea50b1d-08ed-46e2-882b-df3149e50af1',\n",
    "}\n",
    "\n",
    "session = Session()\n",
    "session.headers.update(headers)\n",
    "\n",
    "try:\n",
    "  response = session.get(url, params=parameters)\n",
    "  data = json.loads(response.text)\n",
    "except (ConnectionError, Timeout, TooManyRedirects) as e:\n",
    "  print(e)"
   ]
  },
  {
   "cell_type": "code",
   "execution_count": 14,
   "id": "568b67a4-5186-4c6f-a22b-5f49baba29cc",
   "metadata": {},
   "outputs": [],
   "source": [
    "# Normalizes JSON data to dataframe\n",
    "df = pd.json_normalize(data['data']) \n",
    "\n",
    "# Adds timestamp column to API data pull\n",
    "df['timestamp'] = pd.to_datetime('now') "
   ]
  },
  {
   "cell_type": "markdown",
   "id": "40140ebc-292b-4944-8a39-0e5daec49bd0",
   "metadata": {},
   "source": [
    "# Save Dataframe as CSV File"
   ]
  },
  {
   "cell_type": "code",
   "execution_count": 22,
   "id": "551da3dc-0628-4733-a615-ab172145662a",
   "metadata": {},
   "outputs": [
    {
     "name": "stdout",
     "output_type": "stream",
     "text": [
      "Data saved to C:\\Users\\josem\\OneDrive\\Desktop\\Projects\\DBT Tutorial Project\\CoinMarketAPI API Pull Code\\CoinMarketCapTop100Crypto.csv\n"
     ]
    }
   ],
   "source": [
    "# Get the current directory\n",
    "current_directory = os.getcwd()\n",
    "\n",
    "# Construct the file path for saving the CSV file in the current directory\n",
    "file_path = os.path.join(current_directory, 'CoinMarketCapTop100Crypto.csv')\n",
    "\n",
    "# Save the DataFrame to a CSV file\n",
    "df.to_csv(file_path, index=False)\n",
    "\n",
    "print(f'Data saved to {file_path}')"
   ]
  },
  {
   "cell_type": "code",
   "execution_count": 6,
   "id": "670b6ee8-9cae-4602-8649-77451b61426a",
   "metadata": {},
   "outputs": [],
   "source": []
  },
  {
   "cell_type": "code",
   "execution_count": null,
   "id": "1feee4b1-2a08-4487-9854-7071e54bbdc0",
   "metadata": {},
   "outputs": [],
   "source": []
  }
 ],
 "metadata": {
  "kernelspec": {
   "display_name": "Python 3 (ipykernel)",
   "language": "python",
   "name": "python3"
  },
  "language_info": {
   "codemirror_mode": {
    "name": "ipython",
    "version": 3
   },
   "file_extension": ".py",
   "mimetype": "text/x-python",
   "name": "python",
   "nbconvert_exporter": "python",
   "pygments_lexer": "ipython3",
   "version": "3.11.5"
  }
 },
 "nbformat": 4,
 "nbformat_minor": 5
}
